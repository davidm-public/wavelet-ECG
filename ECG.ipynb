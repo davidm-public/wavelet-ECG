{
 "cells": [
  {
   "cell_type": "code",
   "execution_count": 1,
   "metadata": {},
   "outputs": [],
   "source": [
    "import pyedflib\n",
    "import numpy as np\n",
    "\n",
    "from scipy import signal\n",
    "import matplotlib.pyplot as plt\n",
    "import csv\n",
    "import pandas as pd\n",
    "import itertools as iter"
   ]
  },
  {
   "cell_type": "code",
   "execution_count": 2,
   "metadata": {},
   "outputs": [],
   "source": [
    "#read dataset\n",
    "csv_file = 'mros-visit1-dataset-0.3.0.csv'\n",
    "df = pd.read_csv(csv_file, dtype={\"nsrrid\": str, \"poordi4\": int}, low_memory=False)\n",
    "AHI = df[['nsrrid', 'poordi4']] #select only two columns\n",
    "\n",
    "#select only 50 patients from each group (normal/abnormal)\n",
    "n_data = 100\n",
    "group1 = AHI[AHI.poordi4 < 5][0:n_data/2] #group1 : normal\n",
    "group1['class'] = 0\n",
    "group2 = AHI[AHI.poordi4 >= 30][0:n_data/2] #group2 : OSA patient\n",
    "group2['class'] = 1\n",
    "all_data = pd.concat([group1, group2])"
   ]
  },
  {
   "cell_type": "code",
   "execution_count": null,
   "metadata": {},
   "outputs": [],
   "source": [
    "## get ECGs ##\n",
    "\n",
    "#set params\n",
    "sampling_rate = 512 #number of samplings per second\n",
    "second_hour_start = sampling_rate * 60 * 60\n",
    "fifth_hour_end = sampling_rate * 60 * 60 * 5\n",
    "length = fifth_hour_end-second_hour_start\n",
    "ECGs = np.zeros(shape=(n_data, length))\n",
    "\n",
    "for i, it in enumerate(iter.izip(all_data['nsrrid'], all_data['class'])):\n",
    "    try:\n",
    "        print 'round', i\n",
    "        f_name = \"../mros/polysomnography/edfs/visit1/mros-visit1-\" + it[0].lower() + \".edf\"\n",
    "        f = pyedflib.EdfReader(f_name)\n",
    "\n",
    "        '''\n",
    "        #Uncomment to see shape of data\n",
    "        if i == 0:\n",
    "            n = f.signals_in_file\n",
    "            signal_labels = f.getSignalLabels()\n",
    "            print \"This file includes\", n, \"signals :\"\n",
    "            print \"(list of signal : number of samples in each channel)\"\n",
    "            for i, s in enumerate(signal_labels):\n",
    "                print '\\t', s, ':', f.getNSamples()[i]\n",
    "        '''\n",
    "\n",
    "        #select only ECG\n",
    "        ecg_L = f.readSignal(9)\n",
    "\n",
    "        #select only data from 2nd to 5th hours\n",
    "        ecg_L_4hrs = ecg_L[second_hour_start : fifth_hour_end]\n",
    "  \n",
    "        '''\n",
    "        #filter by notch digital filter \n",
    "        #from https://docs.scipy.org/doc/scipy/reference/generated/scipy.signal.iirnotch.html\n",
    "        fs = sampling_rate  # Sample frequency (Hz)\n",
    "        f0 = 60.0  # Frequency to be removed from signal (Hz) => because of the US electrical \n",
    "        Q = 30.0  # Quality factor\n",
    "        w0 = f0/(fs/2)  # Normalized Frequency\n",
    "        b, a = signal.iirnotch(w0, Q)\n",
    "        w, h = signal.freqz(b, a)\n",
    "        freq = w*fs/(2*np.pi)\n",
    "        print len(w), len(h), len(freq)\n",
    "        '''\n",
    "        \n",
    "        #add all patients' ECGs and class to numpy array\n",
    "        ECGs[i] = ecg_L_4hrs + it[1]\n",
    "        \n",
    "        #write selected period of signal to file\n",
    "        fw_name = \"./ECGs/visit1/mros-visit1-\" + it[0].lower() + \"-4hours.edf\"\n",
    "        np.save(fw_name, np.array(ecg_L_4hrs))\n",
    "        print \"Select ECG data only from 2nd to 5th hours =\", length, \"samplings from all\", len(ecg_L), \"samplings.\"\n",
    "    \n",
    "    except Exception, e:\n",
    "        print 'FAIL at', f_name, e\n",
    "    finally:\n",
    "        f._close()\n",
    "    \n",
    "print ECGs.shape"
   ]
  },
  {
   "cell_type": "code",
   "execution_count": null,
   "metadata": {},
   "outputs": [],
   "source": []
  },
  {
   "cell_type": "code",
   "execution_count": null,
   "metadata": {},
   "outputs": [],
   "source": [
    "f._close()\n",
    "fw.close()"
   ]
  },
  {
   "cell_type": "code",
   "execution_count": null,
   "metadata": {},
   "outputs": [],
   "source": []
  },
  {
   "cell_type": "code",
   "execution_count": null,
   "metadata": {},
   "outputs": [],
   "source": []
  },
  {
   "cell_type": "code",
   "execution_count": null,
   "metadata": {},
   "outputs": [],
   "source": []
  }
 ],
 "metadata": {
  "kernelspec": {
   "display_name": "Python 2",
   "language": "python",
   "name": "python2"
  },
  "language_info": {
   "codemirror_mode": {
    "name": "ipython",
    "version": 2
   },
   "file_extension": ".py",
   "mimetype": "text/x-python",
   "name": "python",
   "nbconvert_exporter": "python",
   "pygments_lexer": "ipython2",
   "version": "2.7.12"
  }
 },
 "nbformat": 4,
 "nbformat_minor": 2
}
